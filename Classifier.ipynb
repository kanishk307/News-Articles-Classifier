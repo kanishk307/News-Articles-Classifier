{
 "cells": [
  {
   "cell_type": "code",
   "execution_count": 1,
   "metadata": {},
   "outputs": [],
   "source": [
    "import pickle\n",
    "import pandas as pd\n",
    "import nltk\n",
    "from nltk.corpus import stopwords\n",
    "from nltk.tokenize import punkt\n",
    "from nltk.corpus.reader import wordnet\n",
    "from nltk.stem import WordNetLemmatizer\n",
    "from sklearn.feature_extraction.text import TfidfVectorizer"
   ]
  },
  {
   "cell_type": "code",
   "execution_count": 2,
   "metadata": {},
   "outputs": [],
   "source": [
    "models_path = \"Models/\"\n",
    "\n",
    "svm_path = models_path + 'best_svc.pickle'\n",
    "\n",
    "with open(svm_path, 'rb') as data:\n",
    "    svc_model = pickle.load(data)"
   ]
  },
  {
   "cell_type": "code",
   "execution_count": 3,
   "metadata": {},
   "outputs": [],
   "source": [
    "tfidf_path = \"Pickles/tfidf.pickle\"\n",
    "with open(tfidf_path, 'rb') as data:\n",
    "    tfidf = pickle.load(data)\n"
   ]
  },
  {
   "cell_type": "code",
   "execution_count": 4,
   "metadata": {},
   "outputs": [],
   "source": [
    "\n",
    "category_codes = {\n",
    "    'business': 0,\n",
    "    'entertainment': 1,\n",
    "    'politics': 2,\n",
    "    'sport': 3,\n",
    "    'tech': 4\n",
    "}"
   ]
  },
  {
   "cell_type": "code",
   "execution_count": null,
   "metadata": {},
   "outputs": [],
   "source": [
    "\n"
   ]
  },
  {
   "cell_type": "code",
   "execution_count": null,
   "metadata": {},
   "outputs": [],
   "source": []
  },
  {
   "cell_type": "code",
   "execution_count": null,
   "metadata": {},
   "outputs": [],
   "source": []
  },
  {
   "cell_type": "code",
   "execution_count": null,
   "metadata": {},
   "outputs": [],
   "source": []
  },
  {
   "cell_type": "code",
   "execution_count": 9,
   "metadata": {},
   "outputs": [],
   "source": [
    "punctuation_signs = list(\"?:!.,;\")\n",
    "stop_words = list(stopwords.words('english'))\n",
    "\n",
    "def create_features_from_text(text):\n",
    "    \n",
    "    # Dataframe creation\n",
    "    lemmatized_text_list = []\n",
    "    df = pd.DataFrame(columns=['Content'])\n",
    "    df.loc[0] = text\n",
    "    df['Content_Parsed_1'] = df['Content'].str.replace(\"\\r\", \" \")\n",
    "    df['Content_Parsed_1'] = df['Content_Parsed_1'].str.replace(\"\\n\", \" \")\n",
    "    df['Content_Parsed_1'] = df['Content_Parsed_1'].str.replace(\"    \", \" \")\n",
    "    df['Content_Parsed_1'] = df['Content_Parsed_1'].str.replace('\"', '')\n",
    "    df['Content_Parsed_2'] = df['Content_Parsed_1'].str.lower()\n",
    "    df['Content_Parsed_3'] = df['Content_Parsed_2']\n",
    "    for punct_sign in punctuation_signs:\n",
    "        df['Content_Parsed_3'] = df['Content_Parsed_3'].str.replace(punct_sign, '')\n",
    "    df['Content_Parsed_4'] = df['Content_Parsed_3'].str.replace(\"'s\", \"\")\n",
    "    wordnet_lemmatizer = WordNetLemmatizer()\n",
    "    lemmatized_list = []\n",
    "    text = df.loc[0]['Content_Parsed_4']\n",
    "    text_words = text.split(\" \")\n",
    "    for word in text_words:\n",
    "        lemmatized_list.append(wordnet_lemmatizer.lemmatize(word, pos=\"v\"))\n",
    "    lemmatized_text = \" \".join(lemmatized_list)    \n",
    "    lemmatized_text_list.append(lemmatized_text)\n",
    "    df['Content_Parsed_5'] = lemmatized_text_list\n",
    "    df['Content_Parsed_6'] = df['Content_Parsed_5']\n",
    "    for stop_word in stop_words:\n",
    "        regex_stopword = r\"\\b\" + stop_word + r\"\\b\"\n",
    "        df['Content_Parsed_6'] = df['Content_Parsed_6'].str.replace(regex_stopword, '')\n",
    "    df = df['Content_Parsed_6']\n",
    "    df = df.rename(columns={'Content_Parsed_6': 'Content_Parsed'})\n",
    "    \n",
    "    # TF-IDF\n",
    "    features = tfidf.transform(df).toarray()\n",
    "    \n",
    "    return features"
   ]
  },
  {
   "cell_type": "code",
   "execution_count": 10,
   "metadata": {},
   "outputs": [],
   "source": [
    "\n",
    "def get_category_name(category_id):\n",
    "    for category, id_ in category_codes.items():    \n",
    "        if id_ == category_id:\n",
    "            return category"
   ]
  },
  {
   "cell_type": "code",
   "execution_count": 11,
   "metadata": {},
   "outputs": [],
   "source": [
    "def predict_from_text(text):\n",
    "    \n",
    "    # Predict using the input model\n",
    "    prediction_svc = svc_model.predict(create_features_from_text(text))[0]\n",
    "    prediction_svc_proba = svc_model.predict_proba(create_features_from_text(text))[0]\n",
    "    \n",
    "    # Return result\n",
    "    category_svc = get_category_name(prediction_svc)\n",
    "    \n",
    "    print(\"The predicted category using the SVM model is %s.\" %(category_svc) )\n",
    "    print(\"The conditional probability is: %a\" %(prediction_svc_proba.max()*100))"
   ]
  },
  {
   "cell_type": "code",
   "execution_count": 12,
   "metadata": {},
   "outputs": [],
   "source": [
    "text = \"\"\"\n",
    "\n",
    "The center-right party Ciudadanos closed a deal on Wednesday with the support of the conservative Popular Party (PP) to take control of the speaker’s committee in the Andalusian parliament, paving the way for the regional PP leader, Juan Manuel Moreno, to stand as the candidate for premier of the southern Spanish region. The move would see the Socialist Party (PSOE) lose power in the Junta, as the regional government is known, for the first time in 36 years.\n",
    "\n",
    "Talks in Andalusia have been ongoing since regional polls were held on December 2. The PSOE, led by incumbent premier Susana Díaz, had been expected to win the early elections, but in a shock result the party took the most seats in parliament, 33, but fell well short of a majority of 55. It was their worst result in the region since Spain returned to democracy. The PP came in second, with 26 seats, while Ciudadanos were third with 21. The major surprise was the strong performance of far-right group Vox, which won more than 391,000 votes (10.9%), giving it 12 deputies. The anti-immigration group is the first of its kind to win seats in a Spanish parliament since the end of the Francisco Franco dictatorship. It now holds the key to power in Andalusia, given that its votes, added to those of the PP and Ciudadanos, constitute an absolute majority.\n",
    "\n",
    "The move would see the Socialist Party lose power in the region for the first time in 36 years\n",
    "\n",
    "On Thursday, Marta Bosquet of Ciudadanos was voted in as the new speaker of the Andalusian parliament thanks to 59 votes from her party, the PP and Vox. The other candidate, Inmaculada Nieto of Adelante Andalucía, secured 50 votes – from her own party and 33 from the PSOE.\n",
    "\n",
    "The speaker’s role in the parliament is key for the calling of an investiture vote and for the selection of the candidate for premier.\n",
    "\n",
    "Officially, the talks as to the make up of a future government have yet to start, but in reality they are well advanced, according to sources from both the PP and Ciudadanos. The leader of the Andalusian PP is banking on being voted into power around January 16 and wants the majority of his Cabinet to be decided “five days before the investiture vote.”\n",
    "\n",
    "The speaker’s role in the parliament is key for the calling of an investiture vote and for the selection of the candidate for premier\n",
    "\n",
    "The PP, which was ousted from power by the PSOE in the national government in June, is keen to take the reins of power in Andalusia as soon as possible. The difficulties that Ciudadanos has faced to justify the necessary inclusion of Vox in the talks, has slowed down progress. Rather than align itself with the far right party, the group – which began life in Catalonia in response to the independence drive, but soon launched onto the national stage – had sought a deal with Adelante Andalucía.\n",
    "\n",
    "Wednesday was a day of intense talks among the parties in a bid to find a solution that would keep everyone happy. But at 9pm last night, Adelante Andalucía announced that it would not be part of “any deal” and that would instead vote for its own candidates to the speaker’s committee in order to “face up to the right wing and the extreme right.”\n",
    "\n",
    "The PSOE, meanwhile, argues that having won the elections with a seven-seat lead over the PP gives it the legitimacy to aspire to the control of the regional government and the parliament, and to maintain its positions on the speaker’s committee.\n",
    "\n",
    "\n",
    "\n",
    "\"\"\"\n"
   ]
  },
  {
   "cell_type": "code",
   "execution_count": 13,
   "metadata": {},
   "outputs": [
    {
     "name": "stdout",
     "output_type": "stream",
     "text": [
      "The predicted category using the SVM model is politics.\n",
      "The conditional probability is: 92.39503972744953\n"
     ]
    }
   ],
   "source": [
    "predict_from_text(text)"
   ]
  },
  {
   "cell_type": "code",
   "execution_count": 14,
   "metadata": {},
   "outputs": [],
   "source": [
    "text=\"\"\"\n",
    "The restaurateur, model and author B. Smith died on Saturday after a battle with Alzheimer's disease, her husband Dan Gasby said in a statement. She was 70 years old.\n",
    "\n",
    "\"Thank you to all the friends and fans who supported B. and our family during her journey,\" Gasby said. \"Thank you to everyone for respecting our privacy during this agonizing time.\"\n",
    "\"Heaven is shining even brighter now that it is graced with B.'s dazzling and unforgettable smile.\"\n",
    "Smith, whose full name was Barbara Elaine Smith, was a multi-faceted and multi-talented personality.\n",
    "In addition to building restaurants and a home decor collection, over the years, Smith was a fashion model, actress, TV host and bestselling cookbook author. In 1976 she became one of the first African American women to appear on the cover of \"Mademoiselle\" magazine.\n",
    "Smith was diagnosed with early-onset Alzheimer's at the age of 64 in 2013.\n",
    "\"It feels like crying,\" she told CBS in a 2014 interview. \"Things like that make me very sad.\"\n",
    "But she was also determined to raise awareness of Alzheimer's, particularly for the African American community.\n",
    "\"We lost legendary fashion model, chef, restaurateur, lifestyle icon and magazine publisher, B Smith today,\" NBC's Al Roker said on Twitter.\n",
    "\n",
    "\"\"\""
   ]
  },
  {
   "cell_type": "code",
   "execution_count": 15,
   "metadata": {},
   "outputs": [
    {
     "name": "stdout",
     "output_type": "stream",
     "text": [
      "The predicted category using the SVM model is entertainment.\n",
      "The conditional probability is: 93.92200108298984\n"
     ]
    }
   ],
   "source": [
    "predict_from_text(text)"
   ]
  },
  {
   "cell_type": "code",
   "execution_count": 16,
   "metadata": {},
   "outputs": [],
   "source": [
    "text=\"\"\"\n",
    "\n",
    "Alabama spent much of the 2020 recruiting cycle in hot pursuit of 5-star tight ends Arik Gilbert and Darnell Washington.\n",
    "\n",
    "Nick Saban and Co. failed.\n",
    "\n",
    "The 6-foot-5, 250-pound Gilbert – from suburban Atlanta and the No. 1-ranked player on AL.com’s The Southern 120 – picked LSU over Alabama and Georgia. Washington, a 6-foot-7 athlete from Las Vegas, picked Georgia over Alabama, Miami and Tennessee.\n",
    "\n",
    "It was clear throughout the recruiting cycle, though, that Alabama desperately wanted to bring in a plug-and-play tight end after last year’s tight end group combined for just 21 catches.\n",
    "\n",
    "Alabama briefly flirted with 6-foot-7 McKinney North (Texas)’s Brandon Frazier – who ended up signing with Auburn – before abandoning January recruiting of high school tight ends.\n",
    "\n",
    "The Crimson Tide simply turned to the transfer (free agent) portal and nabbed North Carolina grad transfer Carl Tucker, a 6-foot-2, 248-pounder who started 20 career games and caught a career-best 16 passes in the Tar Heels’ ‘Air Raid’ offense in 2018.\n",
    "\n",
    "Why take an unproven 18-year-old over Tucker, who was initially part of the 2015 recruiting cycle and has had nearly five years to get bigger, stronger and mentally strong enough to play in the rough-and-tumble SEC.\n",
    "\n",
    "The funny thing is Alabama actually signed another tight end – Archbishop Hoban (Ohio)’s Caden Clark, a 6-foot-3½, 245-pound 3-star prospect – but the Tide’s pursuit of others suggests he’s more a development player than ready to provide plug-and-play immediate help.\n",
    "\n",
    "Alabama produced first-round NFL draft pick O.J. Howard in 2017 and second-round pick Irv Smith in 2019, but there’s no one of comparable talent currently on the roster.\n",
    "\n",
    "With a new starting quarterback leading the offense 2020, it’s easy to see how and why a reliable and explosive pass-catching tight end would be a welcome security blanket for Mac Jones, Bryce Young or whoever ultimately wins the job.\n",
    "\"\"\""
   ]
  },
  {
   "cell_type": "code",
   "execution_count": 17,
   "metadata": {},
   "outputs": [
    {
     "name": "stdout",
     "output_type": "stream",
     "text": [
      "The predicted category using the SVM model is sport.\n",
      "The conditional probability is: 89.84072579967938\n"
     ]
    }
   ],
   "source": [
    "predict_from_text(text)"
   ]
  },
  {
   "cell_type": "code",
   "execution_count": 18,
   "metadata": {},
   "outputs": [],
   "source": [
    "text =\"\"\"\n",
    "Senator Bernie Sanders claimed a major victory in the Nevada caucuses on Saturday that demonstrated his broad appeal in the first racially diverse state in the presidential primary race and established him as the clear front-runner for the Democratic nomination.\n",
    "\n",
    "In a significant show of force, Mr. Sanders, a liberal from Vermont, had a lead that was more than double his nearest rivals with 50 percent of the precincts reporting, and The Associated Press named him the winner on Saturday evening.\n",
    "\n",
    "His triumph in Nevada, after strong performances in Iowa and New Hampshire, will propel him into next Saturday’s primary in South Carolina, and the Super Tuesday contests immediately thereafter, with a burst of momentum that may make it difficult for the still-fractured moderate wing of the party to slow his march.\n",
    "\n",
    "Mr. Sanders, speaking to jubilant supporters in San Antonio, trumpeted what early results suggested would be a landslide victory.\n",
    "\n",
    "\"\"\""
   ]
  },
  {
   "cell_type": "code",
   "execution_count": 19,
   "metadata": {},
   "outputs": [
    {
     "name": "stdout",
     "output_type": "stream",
     "text": [
      "The predicted category using the SVM model is politics.\n",
      "The conditional probability is: 73.18641232211323\n"
     ]
    }
   ],
   "source": [
    "predict_from_text(text)"
   ]
  },
  {
   "cell_type": "code",
   "execution_count": null,
   "metadata": {},
   "outputs": [],
   "source": []
  }
 ],
 "metadata": {
  "kernelspec": {
   "display_name": "Python 3",
   "language": "python",
   "name": "python3"
  },
  "language_info": {
   "codemirror_mode": {
    "name": "ipython",
    "version": 3
   },
   "file_extension": ".py",
   "mimetype": "text/x-python",
   "name": "python",
   "nbconvert_exporter": "python",
   "pygments_lexer": "ipython3",
   "version": "3.8.1"
  }
 },
 "nbformat": 4,
 "nbformat_minor": 4
}
